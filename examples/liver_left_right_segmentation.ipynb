{
 "cells": [
  {
   "cell_type": "code",
   "execution_count": 268,
   "metadata": {},
   "outputs": [
    {
     "name": "stdout",
     "output_type": "stream",
     "text": [
      "Populating the interactive namespace from numpy and matplotlib\n"
     ]
    }
   ],
   "source": [
    "%pylab inline\n",
    "\n",
    "import io3d\n",
    "from pathlib import Path"
   ]
  },
  {
   "cell_type": "markdown",
   "metadata": {},
   "source": [
    "# Virtual hepatectomy\n",
    "\n",
    "Merge manual segmentation of left liver with ircad segmentation of the liver. Input data:\n",
    "\n",
    "* Manual segmentation of left part of the liver with careful segmentation of resection line but no care about the segmentation quality on the liver boundary.\n",
    "\n",
    "* Manual liver segmentation from ircad\n",
    "\n",
    "In the fallowing scrip we just combine both this sources into one file with labeling of left and right part of the liver.\n"
   ]
  },
  {
   "cell_type": "code",
   "execution_count": 269,
   "metadata": {},
   "outputs": [],
   "source": [
    "# 6, 11, 16 nefunguje\n",
    "ircad_id = \"10\"\n",
    "ircad_id = \"12\"\n",
    "ircad_id = \"11\"\n",
    "ircad_id = \"20\""
   ]
  },
  {
   "cell_type": "code",
   "execution_count": 270,
   "metadata": {},
   "outputs": [],
   "source": [
    "pth_left = f\"C:/Users/Jirik/lisa_data/ircad{ircad_id}_left.pklz\"\n",
    "pth_left = f\"G:\\Můj disk\\data\\medical\\orig\\ircad_left_right/patient_dicom_seg{ircad_id}.pklz\"\n",
    "pth_liver = f\"C:/Users/Jirik/data/medical/orig/3Dircadb1.{ircad_id}/MASKS_DICOM/liver/\"\n",
    "pth_output = f\"C:/Users/Jirik/lisa_data/ircad{ircad_id}_liver_LR.pklz\""
   ]
  },
  {
   "cell_type": "code",
   "execution_count": 271,
   "metadata": {},
   "outputs": [
    {
     "name": "stderr",
     "output_type": "stream",
     "text": [
      "2020-05-26 14:19:44.142 | DEBUG    | io3d.datareader:Get3DData:146 - file read recognized\n",
      "2020-05-26 14:19:44.144 | DEBUG    | io3d.datareader:__ReadFromFile:254 - pklz format detected\n",
      "2020-05-26 14:19:45.050 | DEBUG    | io3d.datareader:Get3DData:166 - dataplus format\n",
      "2020-05-26 14:19:45.054 | DEBUG    | io3d.datareader:Get3DData:170 - datap keys () : dict_keys(['series_number', 'datadir', 'voxelsize_mm', 'data3d'])\n",
      "2020-05-26 14:19:45.065 | DEBUG    | io3d.datareader:Get3DData:150 - directory read recognized\n",
      "2020-05-26 14:19:45.084 | WARNING  | io3d.dcmreaddata:is_dicom_dir:74 - Unable to read dicom file dicomdir.pkl\n",
      "2020-05-26 14:19:45.087 | WARNING  | io3d.dcmreaddata:is_dicom_dir:75 - File is missing DICOM File Meta Information header or the 'DICM' prefix is missing from the header. Use force=True to force reading.\n",
      "2020-05-26 14:19:45.096 | DEBUG    | io3d.datareader:__ReadFromDirectory:191 - Dir - DICOM\n",
      "2020-05-26 14:19:45.097 | DEBUG    | io3d.datareader:__ReadFromDirectory:192 - dicom_expected None\n",
      "2020-05-26 14:19:45.103 | INFO     | io3d.misc:read_pkl_and_pklz:115 - Input gzip exception: Not a gzipped file (b'\\x80\\x04')\n",
      "2020-05-26 14:19:45.107 | DEBUG    | io3d.dcmreaddata:get_sorted_series_files:808 - SeriesNumber: None\n",
      "2020-05-26 14:19:45.132 | DEBUG    | io3d.dcmreaddata:get_3Ddata:334 - Data size: 58982400, shape: (512, 512)x225 file C:\\Users\\Jirik\\data\\medical\\orig\\3Dircadb1.20\\MASKS_DICOM\\liver\\image_0\n",
      "2020-05-26 14:19:45.140 | DEBUG    | io3d.dcmreaddata:get_3Ddata:334 - Data size: 58982400, shape: (512, 512)x225 file C:\\Users\\Jirik\\data\\medical\\orig\\3Dircadb1.20\\MASKS_DICOM\\liver\\image_1\n",
      "2020-05-26 14:19:45.154 | DEBUG    | io3d.dcmreaddata:get_3Ddata:334 - Data size: 58982400, shape: (512, 512)x225 file C:\\Users\\Jirik\\data\\medical\\orig\\3Dircadb1.20\\MASKS_DICOM\\liver\\image_2\n",
      "2020-05-26 14:19:45.166 | DEBUG    | io3d.dcmreaddata:get_3Ddata:334 - Data size: 58982400, shape: (512, 512)x225 file C:\\Users\\Jirik\\data\\medical\\orig\\3Dircadb1.20\\MASKS_DICOM\\liver\\image_3\n",
      "2020-05-26 14:19:45.182 | DEBUG    | io3d.dcmreaddata:get_3Ddata:334 - Data size: 58982400, shape: (512, 512)x225 file C:\\Users\\Jirik\\data\\medical\\orig\\3Dircadb1.20\\MASKS_DICOM\\liver\\image_4\n",
      "2020-05-26 14:19:45.196 | DEBUG    | io3d.dcmreaddata:get_3Ddata:334 - Data size: 58982400, shape: (512, 512)x225 file C:\\Users\\Jirik\\data\\medical\\orig\\3Dircadb1.20\\MASKS_DICOM\\liver\\image_5\n",
      "2020-05-26 14:19:45.208 | DEBUG    | io3d.dcmreaddata:get_3Ddata:334 - Data size: 58982400, shape: (512, 512)x225 file C:\\Users\\Jirik\\data\\medical\\orig\\3Dircadb1.20\\MASKS_DICOM\\liver\\image_6\n",
      "2020-05-26 14:19:45.220 | DEBUG    | io3d.dcmreaddata:get_3Ddata:334 - Data size: 58982400, shape: (512, 512)x225 file C:\\Users\\Jirik\\data\\medical\\orig\\3Dircadb1.20\\MASKS_DICOM\\liver\\image_7\n",
      "2020-05-26 14:19:45.230 | DEBUG    | io3d.dcmreaddata:get_3Ddata:334 - Data size: 58982400, shape: (512, 512)x225 file C:\\Users\\Jirik\\data\\medical\\orig\\3Dircadb1.20\\MASKS_DICOM\\liver\\image_8\n",
      "2020-05-26 14:19:45.244 | DEBUG    | io3d.dcmreaddata:get_3Ddata:334 - Data size: 58982400, shape: (512, 512)x225 file C:\\Users\\Jirik\\data\\medical\\orig\\3Dircadb1.20\\MASKS_DICOM\\liver\\image_9\n",
      "2020-05-26 14:19:45.257 | DEBUG    | io3d.dcmreaddata:get_3Ddata:334 - Data size: 58982400, shape: (512, 512)x225 file C:\\Users\\Jirik\\data\\medical\\orig\\3Dircadb1.20\\MASKS_DICOM\\liver\\image_10\n",
      "2020-05-26 14:19:45.271 | DEBUG    | io3d.dcmreaddata:get_3Ddata:334 - Data size: 58982400, shape: (512, 512)x225 file C:\\Users\\Jirik\\data\\medical\\orig\\3Dircadb1.20\\MASKS_DICOM\\liver\\image_11\n",
      "2020-05-26 14:19:45.286 | DEBUG    | io3d.dcmreaddata:get_3Ddata:334 - Data size: 58982400, shape: (512, 512)x225 file C:\\Users\\Jirik\\data\\medical\\orig\\3Dircadb1.20\\MASKS_DICOM\\liver\\image_12\n",
      "2020-05-26 14:19:45.302 | DEBUG    | io3d.dcmreaddata:get_3Ddata:334 - Data size: 58982400, shape: (512, 512)x225 file C:\\Users\\Jirik\\data\\medical\\orig\\3Dircadb1.20\\MASKS_DICOM\\liver\\image_13\n",
      "2020-05-26 14:19:45.309 | DEBUG    | io3d.dcmreaddata:get_3Ddata:334 - Data size: 58982400, shape: (512, 512)x225 file C:\\Users\\Jirik\\data\\medical\\orig\\3Dircadb1.20\\MASKS_DICOM\\liver\\image_14\n",
      "2020-05-26 14:19:45.320 | DEBUG    | io3d.dcmreaddata:get_3Ddata:334 - Data size: 58982400, shape: (512, 512)x225 file C:\\Users\\Jirik\\data\\medical\\orig\\3Dircadb1.20\\MASKS_DICOM\\liver\\image_15\n",
      "2020-05-26 14:19:45.331 | DEBUG    | io3d.dcmreaddata:get_3Ddata:334 - Data size: 58982400, shape: (512, 512)x225 file C:\\Users\\Jirik\\data\\medical\\orig\\3Dircadb1.20\\MASKS_DICOM\\liver\\image_16\n",
      "2020-05-26 14:19:45.344 | DEBUG    | io3d.dcmreaddata:get_3Ddata:334 - Data size: 58982400, shape: (512, 512)x225 file C:\\Users\\Jirik\\data\\medical\\orig\\3Dircadb1.20\\MASKS_DICOM\\liver\\image_17\n",
      "2020-05-26 14:19:45.367 | DEBUG    | io3d.dcmreaddata:get_3Ddata:334 - Data size: 58982400, shape: (512, 512)x225 file C:\\Users\\Jirik\\data\\medical\\orig\\3Dircadb1.20\\MASKS_DICOM\\liver\\image_18\n",
      "2020-05-26 14:19:45.377 | DEBUG    | io3d.dcmreaddata:get_3Ddata:334 - Data size: 58982400, shape: (512, 512)x225 file C:\\Users\\Jirik\\data\\medical\\orig\\3Dircadb1.20\\MASKS_DICOM\\liver\\image_19\n",
      "2020-05-26 14:19:45.389 | DEBUG    | io3d.dcmreaddata:get_3Ddata:334 - Data size: 58982400, shape: (512, 512)x225 file C:\\Users\\Jirik\\data\\medical\\orig\\3Dircadb1.20\\MASKS_DICOM\\liver\\image_20\n",
      "2020-05-26 14:19:45.398 | DEBUG    | io3d.dcmreaddata:get_3Ddata:334 - Data size: 58982400, shape: (512, 512)x225 file C:\\Users\\Jirik\\data\\medical\\orig\\3Dircadb1.20\\MASKS_DICOM\\liver\\image_21\n",
      "2020-05-26 14:19:45.409 | DEBUG    | io3d.dcmreaddata:get_3Ddata:334 - Data size: 58982400, shape: (512, 512)x225 file C:\\Users\\Jirik\\data\\medical\\orig\\3Dircadb1.20\\MASKS_DICOM\\liver\\image_22\n",
      "2020-05-26 14:19:45.422 | DEBUG    | io3d.dcmreaddata:get_3Ddata:334 - Data size: 58982400, shape: (512, 512)x225 file C:\\Users\\Jirik\\data\\medical\\orig\\3Dircadb1.20\\MASKS_DICOM\\liver\\image_23\n",
      "2020-05-26 14:19:45.431 | DEBUG    | io3d.dcmreaddata:get_3Ddata:334 - Data size: 58982400, shape: (512, 512)x225 file C:\\Users\\Jirik\\data\\medical\\orig\\3Dircadb1.20\\MASKS_DICOM\\liver\\image_24\n",
      "2020-05-26 14:19:45.441 | DEBUG    | io3d.dcmreaddata:get_3Ddata:334 - Data size: 58982400, shape: (512, 512)x225 file C:\\Users\\Jirik\\data\\medical\\orig\\3Dircadb1.20\\MASKS_DICOM\\liver\\image_25\n",
      "2020-05-26 14:19:45.458 | DEBUG    | io3d.dcmreaddata:get_3Ddata:334 - Data size: 58982400, shape: (512, 512)x225 file C:\\Users\\Jirik\\data\\medical\\orig\\3Dircadb1.20\\MASKS_DICOM\\liver\\image_26\n",
      "2020-05-26 14:19:45.470 | DEBUG    | io3d.dcmreaddata:get_3Ddata:334 - Data size: 58982400, shape: (512, 512)x225 file C:\\Users\\Jirik\\data\\medical\\orig\\3Dircadb1.20\\MASKS_DICOM\\liver\\image_27\n",
      "2020-05-26 14:19:45.481 | DEBUG    | io3d.dcmreaddata:get_3Ddata:334 - Data size: 58982400, shape: (512, 512)x225 file C:\\Users\\Jirik\\data\\medical\\orig\\3Dircadb1.20\\MASKS_DICOM\\liver\\image_28\n",
      "2020-05-26 14:19:45.494 | DEBUG    | io3d.dcmreaddata:get_3Ddata:334 - Data size: 58982400, shape: (512, 512)x225 file C:\\Users\\Jirik\\data\\medical\\orig\\3Dircadb1.20\\MASKS_DICOM\\liver\\image_29\n",
      "2020-05-26 14:19:45.507 | DEBUG    | io3d.dcmreaddata:get_3Ddata:334 - Data size: 58982400, shape: (512, 512)x225 file C:\\Users\\Jirik\\data\\medical\\orig\\3Dircadb1.20\\MASKS_DICOM\\liver\\image_30\n",
      "2020-05-26 14:19:45.520 | DEBUG    | io3d.dcmreaddata:get_3Ddata:334 - Data size: 58982400, shape: (512, 512)x225 file C:\\Users\\Jirik\\data\\medical\\orig\\3Dircadb1.20\\MASKS_DICOM\\liver\\image_31\n",
      "2020-05-26 14:19:45.529 | DEBUG    | io3d.dcmreaddata:get_3Ddata:334 - Data size: 58982400, shape: (512, 512)x225 file C:\\Users\\Jirik\\data\\medical\\orig\\3Dircadb1.20\\MASKS_DICOM\\liver\\image_32\n",
      "2020-05-26 14:19:45.542 | DEBUG    | io3d.dcmreaddata:get_3Ddata:334 - Data size: 58982400, shape: (512, 512)x225 file C:\\Users\\Jirik\\data\\medical\\orig\\3Dircadb1.20\\MASKS_DICOM\\liver\\image_33\n",
      "2020-05-26 14:19:45.552 | DEBUG    | io3d.dcmreaddata:get_3Ddata:334 - Data size: 58982400, shape: (512, 512)x225 file C:\\Users\\Jirik\\data\\medical\\orig\\3Dircadb1.20\\MASKS_DICOM\\liver\\image_34\n",
      "2020-05-26 14:19:45.561 | DEBUG    | io3d.dcmreaddata:get_3Ddata:334 - Data size: 58982400, shape: (512, 512)x225 file C:\\Users\\Jirik\\data\\medical\\orig\\3Dircadb1.20\\MASKS_DICOM\\liver\\image_35\n",
      "2020-05-26 14:19:45.571 | DEBUG    | io3d.dcmreaddata:get_3Ddata:334 - Data size: 58982400, shape: (512, 512)x225 file C:\\Users\\Jirik\\data\\medical\\orig\\3Dircadb1.20\\MASKS_DICOM\\liver\\image_36\n"
     ]
    },
    {
     "name": "stderr",
     "output_type": "stream",
     "text": [
      "2020-05-26 14:19:45.580 | DEBUG    | io3d.dcmreaddata:get_3Ddata:334 - Data size: 58982400, shape: (512, 512)x225 file C:\\Users\\Jirik\\data\\medical\\orig\\3Dircadb1.20\\MASKS_DICOM\\liver\\image_37\n",
      "2020-05-26 14:19:45.592 | DEBUG    | io3d.dcmreaddata:get_3Ddata:334 - Data size: 58982400, shape: (512, 512)x225 file C:\\Users\\Jirik\\data\\medical\\orig\\3Dircadb1.20\\MASKS_DICOM\\liver\\image_38\n",
      "2020-05-26 14:19:45.620 | DEBUG    | io3d.dcmreaddata:get_3Ddata:334 - Data size: 58982400, shape: (512, 512)x225 file C:\\Users\\Jirik\\data\\medical\\orig\\3Dircadb1.20\\MASKS_DICOM\\liver\\image_39\n",
      "2020-05-26 14:19:45.630 | DEBUG    | io3d.dcmreaddata:get_3Ddata:334 - Data size: 58982400, shape: (512, 512)x225 file C:\\Users\\Jirik\\data\\medical\\orig\\3Dircadb1.20\\MASKS_DICOM\\liver\\image_40\n",
      "2020-05-26 14:19:45.641 | DEBUG    | io3d.dcmreaddata:get_3Ddata:334 - Data size: 58982400, shape: (512, 512)x225 file C:\\Users\\Jirik\\data\\medical\\orig\\3Dircadb1.20\\MASKS_DICOM\\liver\\image_41\n",
      "2020-05-26 14:19:45.652 | DEBUG    | io3d.dcmreaddata:get_3Ddata:334 - Data size: 58982400, shape: (512, 512)x225 file C:\\Users\\Jirik\\data\\medical\\orig\\3Dircadb1.20\\MASKS_DICOM\\liver\\image_42\n",
      "2020-05-26 14:19:45.661 | DEBUG    | io3d.dcmreaddata:get_3Ddata:334 - Data size: 58982400, shape: (512, 512)x225 file C:\\Users\\Jirik\\data\\medical\\orig\\3Dircadb1.20\\MASKS_DICOM\\liver\\image_43\n",
      "2020-05-26 14:19:45.671 | DEBUG    | io3d.dcmreaddata:get_3Ddata:334 - Data size: 58982400, shape: (512, 512)x225 file C:\\Users\\Jirik\\data\\medical\\orig\\3Dircadb1.20\\MASKS_DICOM\\liver\\image_44\n",
      "2020-05-26 14:19:45.681 | DEBUG    | io3d.dcmreaddata:get_3Ddata:334 - Data size: 58982400, shape: (512, 512)x225 file C:\\Users\\Jirik\\data\\medical\\orig\\3Dircadb1.20\\MASKS_DICOM\\liver\\image_45\n",
      "2020-05-26 14:19:45.691 | DEBUG    | io3d.dcmreaddata:get_3Ddata:334 - Data size: 58982400, shape: (512, 512)x225 file C:\\Users\\Jirik\\data\\medical\\orig\\3Dircadb1.20\\MASKS_DICOM\\liver\\image_46\n",
      "2020-05-26 14:19:45.698 | DEBUG    | io3d.dcmreaddata:get_3Ddata:334 - Data size: 58982400, shape: (512, 512)x225 file C:\\Users\\Jirik\\data\\medical\\orig\\3Dircadb1.20\\MASKS_DICOM\\liver\\image_47\n",
      "2020-05-26 14:19:45.708 | DEBUG    | io3d.dcmreaddata:get_3Ddata:334 - Data size: 58982400, shape: (512, 512)x225 file C:\\Users\\Jirik\\data\\medical\\orig\\3Dircadb1.20\\MASKS_DICOM\\liver\\image_48\n",
      "2020-05-26 14:19:45.720 | DEBUG    | io3d.dcmreaddata:get_3Ddata:334 - Data size: 58982400, shape: (512, 512)x225 file C:\\Users\\Jirik\\data\\medical\\orig\\3Dircadb1.20\\MASKS_DICOM\\liver\\image_49\n",
      "2020-05-26 14:19:45.729 | DEBUG    | io3d.dcmreaddata:get_3Ddata:334 - Data size: 58982400, shape: (512, 512)x225 file C:\\Users\\Jirik\\data\\medical\\orig\\3Dircadb1.20\\MASKS_DICOM\\liver\\image_50\n",
      "2020-05-26 14:19:45.739 | DEBUG    | io3d.dcmreaddata:get_3Ddata:334 - Data size: 58982400, shape: (512, 512)x225 file C:\\Users\\Jirik\\data\\medical\\orig\\3Dircadb1.20\\MASKS_DICOM\\liver\\image_51\n",
      "2020-05-26 14:19:45.748 | DEBUG    | io3d.dcmreaddata:get_3Ddata:334 - Data size: 58982400, shape: (512, 512)x225 file C:\\Users\\Jirik\\data\\medical\\orig\\3Dircadb1.20\\MASKS_DICOM\\liver\\image_52\n",
      "2020-05-26 14:19:45.758 | DEBUG    | io3d.dcmreaddata:get_3Ddata:334 - Data size: 58982400, shape: (512, 512)x225 file C:\\Users\\Jirik\\data\\medical\\orig\\3Dircadb1.20\\MASKS_DICOM\\liver\\image_53\n",
      "2020-05-26 14:19:45.771 | DEBUG    | io3d.dcmreaddata:get_3Ddata:334 - Data size: 58982400, shape: (512, 512)x225 file C:\\Users\\Jirik\\data\\medical\\orig\\3Dircadb1.20\\MASKS_DICOM\\liver\\image_54\n",
      "2020-05-26 14:19:45.779 | DEBUG    | io3d.dcmreaddata:get_3Ddata:334 - Data size: 58982400, shape: (512, 512)x225 file C:\\Users\\Jirik\\data\\medical\\orig\\3Dircadb1.20\\MASKS_DICOM\\liver\\image_55\n",
      "2020-05-26 14:19:45.790 | DEBUG    | io3d.dcmreaddata:get_3Ddata:334 - Data size: 58982400, shape: (512, 512)x225 file C:\\Users\\Jirik\\data\\medical\\orig\\3Dircadb1.20\\MASKS_DICOM\\liver\\image_56\n",
      "2020-05-26 14:19:45.796 | DEBUG    | io3d.dcmreaddata:get_3Ddata:334 - Data size: 58982400, shape: (512, 512)x225 file C:\\Users\\Jirik\\data\\medical\\orig\\3Dircadb1.20\\MASKS_DICOM\\liver\\image_57\n",
      "2020-05-26 14:19:45.805 | DEBUG    | io3d.dcmreaddata:get_3Ddata:334 - Data size: 58982400, shape: (512, 512)x225 file C:\\Users\\Jirik\\data\\medical\\orig\\3Dircadb1.20\\MASKS_DICOM\\liver\\image_58\n",
      "2020-05-26 14:19:45.812 | DEBUG    | io3d.dcmreaddata:get_3Ddata:334 - Data size: 58982400, shape: (512, 512)x225 file C:\\Users\\Jirik\\data\\medical\\orig\\3Dircadb1.20\\MASKS_DICOM\\liver\\image_59\n",
      "2020-05-26 14:19:45.823 | DEBUG    | io3d.dcmreaddata:get_3Ddata:334 - Data size: 58982400, shape: (512, 512)x225 file C:\\Users\\Jirik\\data\\medical\\orig\\3Dircadb1.20\\MASKS_DICOM\\liver\\image_60\n",
      "2020-05-26 14:19:45.829 | DEBUG    | io3d.dcmreaddata:get_3Ddata:334 - Data size: 58982400, shape: (512, 512)x225 file C:\\Users\\Jirik\\data\\medical\\orig\\3Dircadb1.20\\MASKS_DICOM\\liver\\image_61\n",
      "2020-05-26 14:19:45.838 | DEBUG    | io3d.dcmreaddata:get_3Ddata:334 - Data size: 58982400, shape: (512, 512)x225 file C:\\Users\\Jirik\\data\\medical\\orig\\3Dircadb1.20\\MASKS_DICOM\\liver\\image_62\n",
      "2020-05-26 14:19:45.847 | DEBUG    | io3d.dcmreaddata:get_3Ddata:334 - Data size: 58982400, shape: (512, 512)x225 file C:\\Users\\Jirik\\data\\medical\\orig\\3Dircadb1.20\\MASKS_DICOM\\liver\\image_63\n",
      "2020-05-26 14:19:45.863 | DEBUG    | io3d.dcmreaddata:get_3Ddata:334 - Data size: 58982400, shape: (512, 512)x225 file C:\\Users\\Jirik\\data\\medical\\orig\\3Dircadb1.20\\MASKS_DICOM\\liver\\image_64\n",
      "2020-05-26 14:19:45.873 | DEBUG    | io3d.dcmreaddata:get_3Ddata:334 - Data size: 58982400, shape: (512, 512)x225 file C:\\Users\\Jirik\\data\\medical\\orig\\3Dircadb1.20\\MASKS_DICOM\\liver\\image_65\n",
      "2020-05-26 14:19:45.882 | DEBUG    | io3d.dcmreaddata:get_3Ddata:334 - Data size: 58982400, shape: (512, 512)x225 file C:\\Users\\Jirik\\data\\medical\\orig\\3Dircadb1.20\\MASKS_DICOM\\liver\\image_66\n",
      "2020-05-26 14:19:45.894 | DEBUG    | io3d.dcmreaddata:get_3Ddata:334 - Data size: 58982400, shape: (512, 512)x225 file C:\\Users\\Jirik\\data\\medical\\orig\\3Dircadb1.20\\MASKS_DICOM\\liver\\image_67\n",
      "2020-05-26 14:19:45.902 | DEBUG    | io3d.dcmreaddata:get_3Ddata:334 - Data size: 58982400, shape: (512, 512)x225 file C:\\Users\\Jirik\\data\\medical\\orig\\3Dircadb1.20\\MASKS_DICOM\\liver\\image_68\n",
      "2020-05-26 14:19:45.910 | DEBUG    | io3d.dcmreaddata:get_3Ddata:334 - Data size: 58982400, shape: (512, 512)x225 file C:\\Users\\Jirik\\data\\medical\\orig\\3Dircadb1.20\\MASKS_DICOM\\liver\\image_69\n",
      "2020-05-26 14:19:45.922 | DEBUG    | io3d.dcmreaddata:get_3Ddata:334 - Data size: 58982400, shape: (512, 512)x225 file C:\\Users\\Jirik\\data\\medical\\orig\\3Dircadb1.20\\MASKS_DICOM\\liver\\image_70\n",
      "2020-05-26 14:19:45.928 | DEBUG    | io3d.dcmreaddata:get_3Ddata:334 - Data size: 58982400, shape: (512, 512)x225 file C:\\Users\\Jirik\\data\\medical\\orig\\3Dircadb1.20\\MASKS_DICOM\\liver\\image_71\n",
      "2020-05-26 14:19:45.935 | DEBUG    | io3d.dcmreaddata:get_3Ddata:334 - Data size: 58982400, shape: (512, 512)x225 file C:\\Users\\Jirik\\data\\medical\\orig\\3Dircadb1.20\\MASKS_DICOM\\liver\\image_72\n",
      "2020-05-26 14:19:45.943 | DEBUG    | io3d.dcmreaddata:get_3Ddata:334 - Data size: 58982400, shape: (512, 512)x225 file C:\\Users\\Jirik\\data\\medical\\orig\\3Dircadb1.20\\MASKS_DICOM\\liver\\image_73\n",
      "2020-05-26 14:19:45.955 | DEBUG    | io3d.dcmreaddata:get_3Ddata:334 - Data size: 58982400, shape: (512, 512)x225 file C:\\Users\\Jirik\\data\\medical\\orig\\3Dircadb1.20\\MASKS_DICOM\\liver\\image_74\n",
      "2020-05-26 14:19:45.962 | DEBUG    | io3d.dcmreaddata:get_3Ddata:334 - Data size: 58982400, shape: (512, 512)x225 file C:\\Users\\Jirik\\data\\medical\\orig\\3Dircadb1.20\\MASKS_DICOM\\liver\\image_75\n",
      "2020-05-26 14:19:45.970 | DEBUG    | io3d.dcmreaddata:get_3Ddata:334 - Data size: 58982400, shape: (512, 512)x225 file C:\\Users\\Jirik\\data\\medical\\orig\\3Dircadb1.20\\MASKS_DICOM\\liver\\image_76\n",
      "2020-05-26 14:19:45.976 | DEBUG    | io3d.dcmreaddata:get_3Ddata:334 - Data size: 58982400, shape: (512, 512)x225 file C:\\Users\\Jirik\\data\\medical\\orig\\3Dircadb1.20\\MASKS_DICOM\\liver\\image_77\n",
      "2020-05-26 14:19:45.985 | DEBUG    | io3d.dcmreaddata:get_3Ddata:334 - Data size: 58982400, shape: (512, 512)x225 file C:\\Users\\Jirik\\data\\medical\\orig\\3Dircadb1.20\\MASKS_DICOM\\liver\\image_78\n",
      "2020-05-26 14:19:45.992 | DEBUG    | io3d.dcmreaddata:get_3Ddata:334 - Data size: 58982400, shape: (512, 512)x225 file C:\\Users\\Jirik\\data\\medical\\orig\\3Dircadb1.20\\MASKS_DICOM\\liver\\image_79\n"
     ]
    },
    {
     "name": "stderr",
     "output_type": "stream",
     "text": [
      "2020-05-26 14:19:46.001 | DEBUG    | io3d.dcmreaddata:get_3Ddata:334 - Data size: 58982400, shape: (512, 512)x225 file C:\\Users\\Jirik\\data\\medical\\orig\\3Dircadb1.20\\MASKS_DICOM\\liver\\image_80\n",
      "2020-05-26 14:19:46.005 | DEBUG    | io3d.dcmreaddata:get_3Ddata:334 - Data size: 58982400, shape: (512, 512)x225 file C:\\Users\\Jirik\\data\\medical\\orig\\3Dircadb1.20\\MASKS_DICOM\\liver\\image_81\n",
      "2020-05-26 14:19:46.013 | DEBUG    | io3d.dcmreaddata:get_3Ddata:334 - Data size: 58982400, shape: (512, 512)x225 file C:\\Users\\Jirik\\data\\medical\\orig\\3Dircadb1.20\\MASKS_DICOM\\liver\\image_82\n",
      "2020-05-26 14:19:46.022 | DEBUG    | io3d.dcmreaddata:get_3Ddata:334 - Data size: 58982400, shape: (512, 512)x225 file C:\\Users\\Jirik\\data\\medical\\orig\\3Dircadb1.20\\MASKS_DICOM\\liver\\image_83\n",
      "2020-05-26 14:19:46.034 | DEBUG    | io3d.dcmreaddata:get_3Ddata:334 - Data size: 58982400, shape: (512, 512)x225 file C:\\Users\\Jirik\\data\\medical\\orig\\3Dircadb1.20\\MASKS_DICOM\\liver\\image_84\n",
      "2020-05-26 14:19:46.044 | DEBUG    | io3d.dcmreaddata:get_3Ddata:334 - Data size: 58982400, shape: (512, 512)x225 file C:\\Users\\Jirik\\data\\medical\\orig\\3Dircadb1.20\\MASKS_DICOM\\liver\\image_85\n",
      "2020-05-26 14:19:46.055 | DEBUG    | io3d.dcmreaddata:get_3Ddata:334 - Data size: 58982400, shape: (512, 512)x225 file C:\\Users\\Jirik\\data\\medical\\orig\\3Dircadb1.20\\MASKS_DICOM\\liver\\image_86\n",
      "2020-05-26 14:19:46.063 | DEBUG    | io3d.dcmreaddata:get_3Ddata:334 - Data size: 58982400, shape: (512, 512)x225 file C:\\Users\\Jirik\\data\\medical\\orig\\3Dircadb1.20\\MASKS_DICOM\\liver\\image_87\n",
      "2020-05-26 14:19:46.072 | DEBUG    | io3d.dcmreaddata:get_3Ddata:334 - Data size: 58982400, shape: (512, 512)x225 file C:\\Users\\Jirik\\data\\medical\\orig\\3Dircadb1.20\\MASKS_DICOM\\liver\\image_88\n",
      "2020-05-26 14:19:46.078 | DEBUG    | io3d.dcmreaddata:get_3Ddata:334 - Data size: 58982400, shape: (512, 512)x225 file C:\\Users\\Jirik\\data\\medical\\orig\\3Dircadb1.20\\MASKS_DICOM\\liver\\image_89\n",
      "2020-05-26 14:19:46.089 | DEBUG    | io3d.dcmreaddata:get_3Ddata:334 - Data size: 58982400, shape: (512, 512)x225 file C:\\Users\\Jirik\\data\\medical\\orig\\3Dircadb1.20\\MASKS_DICOM\\liver\\image_90\n",
      "2020-05-26 14:19:46.094 | DEBUG    | io3d.dcmreaddata:get_3Ddata:334 - Data size: 58982400, shape: (512, 512)x225 file C:\\Users\\Jirik\\data\\medical\\orig\\3Dircadb1.20\\MASKS_DICOM\\liver\\image_91\n",
      "2020-05-26 14:19:46.104 | DEBUG    | io3d.dcmreaddata:get_3Ddata:334 - Data size: 58982400, shape: (512, 512)x225 file C:\\Users\\Jirik\\data\\medical\\orig\\3Dircadb1.20\\MASKS_DICOM\\liver\\image_92\n",
      "2020-05-26 14:19:46.113 | DEBUG    | io3d.dcmreaddata:get_3Ddata:334 - Data size: 58982400, shape: (512, 512)x225 file C:\\Users\\Jirik\\data\\medical\\orig\\3Dircadb1.20\\MASKS_DICOM\\liver\\image_93\n",
      "2020-05-26 14:19:46.121 | DEBUG    | io3d.dcmreaddata:get_3Ddata:334 - Data size: 58982400, shape: (512, 512)x225 file C:\\Users\\Jirik\\data\\medical\\orig\\3Dircadb1.20\\MASKS_DICOM\\liver\\image_94\n",
      "2020-05-26 14:19:46.127 | DEBUG    | io3d.dcmreaddata:get_3Ddata:334 - Data size: 58982400, shape: (512, 512)x225 file C:\\Users\\Jirik\\data\\medical\\orig\\3Dircadb1.20\\MASKS_DICOM\\liver\\image_95\n",
      "2020-05-26 14:19:46.134 | DEBUG    | io3d.dcmreaddata:get_3Ddata:334 - Data size: 58982400, shape: (512, 512)x225 file C:\\Users\\Jirik\\data\\medical\\orig\\3Dircadb1.20\\MASKS_DICOM\\liver\\image_96\n",
      "2020-05-26 14:19:46.140 | DEBUG    | io3d.dcmreaddata:get_3Ddata:334 - Data size: 58982400, shape: (512, 512)x225 file C:\\Users\\Jirik\\data\\medical\\orig\\3Dircadb1.20\\MASKS_DICOM\\liver\\image_97\n",
      "2020-05-26 14:19:46.145 | DEBUG    | io3d.dcmreaddata:get_3Ddata:334 - Data size: 58982400, shape: (512, 512)x225 file C:\\Users\\Jirik\\data\\medical\\orig\\3Dircadb1.20\\MASKS_DICOM\\liver\\image_98\n",
      "2020-05-26 14:19:46.155 | DEBUG    | io3d.dcmreaddata:get_3Ddata:334 - Data size: 58982400, shape: (512, 512)x225 file C:\\Users\\Jirik\\data\\medical\\orig\\3Dircadb1.20\\MASKS_DICOM\\liver\\image_99\n",
      "2020-05-26 14:19:46.163 | DEBUG    | io3d.dcmreaddata:get_3Ddata:334 - Data size: 58982400, shape: (512, 512)x225 file C:\\Users\\Jirik\\data\\medical\\orig\\3Dircadb1.20\\MASKS_DICOM\\liver\\image_100\n",
      "2020-05-26 14:19:46.172 | DEBUG    | io3d.dcmreaddata:get_3Ddata:334 - Data size: 58982400, shape: (512, 512)x225 file C:\\Users\\Jirik\\data\\medical\\orig\\3Dircadb1.20\\MASKS_DICOM\\liver\\image_101\n",
      "2020-05-26 14:19:46.178 | DEBUG    | io3d.dcmreaddata:get_3Ddata:334 - Data size: 58982400, shape: (512, 512)x225 file C:\\Users\\Jirik\\data\\medical\\orig\\3Dircadb1.20\\MASKS_DICOM\\liver\\image_102\n",
      "2020-05-26 14:19:46.188 | DEBUG    | io3d.dcmreaddata:get_3Ddata:334 - Data size: 58982400, shape: (512, 512)x225 file C:\\Users\\Jirik\\data\\medical\\orig\\3Dircadb1.20\\MASKS_DICOM\\liver\\image_103\n",
      "2020-05-26 14:19:46.193 | DEBUG    | io3d.dcmreaddata:get_3Ddata:334 - Data size: 58982400, shape: (512, 512)x225 file C:\\Users\\Jirik\\data\\medical\\orig\\3Dircadb1.20\\MASKS_DICOM\\liver\\image_104\n",
      "2020-05-26 14:19:46.200 | DEBUG    | io3d.dcmreaddata:get_3Ddata:334 - Data size: 58982400, shape: (512, 512)x225 file C:\\Users\\Jirik\\data\\medical\\orig\\3Dircadb1.20\\MASKS_DICOM\\liver\\image_105\n",
      "2020-05-26 14:19:46.208 | DEBUG    | io3d.dcmreaddata:get_3Ddata:334 - Data size: 58982400, shape: (512, 512)x225 file C:\\Users\\Jirik\\data\\medical\\orig\\3Dircadb1.20\\MASKS_DICOM\\liver\\image_106\n",
      "2020-05-26 14:19:46.213 | DEBUG    | io3d.dcmreaddata:get_3Ddata:334 - Data size: 58982400, shape: (512, 512)x225 file C:\\Users\\Jirik\\data\\medical\\orig\\3Dircadb1.20\\MASKS_DICOM\\liver\\image_107\n",
      "2020-05-26 14:19:46.224 | DEBUG    | io3d.dcmreaddata:get_3Ddata:334 - Data size: 58982400, shape: (512, 512)x225 file C:\\Users\\Jirik\\data\\medical\\orig\\3Dircadb1.20\\MASKS_DICOM\\liver\\image_108\n",
      "2020-05-26 14:19:46.230 | DEBUG    | io3d.dcmreaddata:get_3Ddata:334 - Data size: 58982400, shape: (512, 512)x225 file C:\\Users\\Jirik\\data\\medical\\orig\\3Dircadb1.20\\MASKS_DICOM\\liver\\image_109\n",
      "2020-05-26 14:19:46.239 | DEBUG    | io3d.dcmreaddata:get_3Ddata:334 - Data size: 58982400, shape: (512, 512)x225 file C:\\Users\\Jirik\\data\\medical\\orig\\3Dircadb1.20\\MASKS_DICOM\\liver\\image_110\n",
      "2020-05-26 14:19:46.244 | DEBUG    | io3d.dcmreaddata:get_3Ddata:334 - Data size: 58982400, shape: (512, 512)x225 file C:\\Users\\Jirik\\data\\medical\\orig\\3Dircadb1.20\\MASKS_DICOM\\liver\\image_111\n",
      "2020-05-26 14:19:46.254 | DEBUG    | io3d.dcmreaddata:get_3Ddata:334 - Data size: 58982400, shape: (512, 512)x225 file C:\\Users\\Jirik\\data\\medical\\orig\\3Dircadb1.20\\MASKS_DICOM\\liver\\image_112\n",
      "2020-05-26 14:19:46.259 | DEBUG    | io3d.dcmreaddata:get_3Ddata:334 - Data size: 58982400, shape: (512, 512)x225 file C:\\Users\\Jirik\\data\\medical\\orig\\3Dircadb1.20\\MASKS_DICOM\\liver\\image_113\n",
      "2020-05-26 14:19:46.265 | DEBUG    | io3d.dcmreaddata:get_3Ddata:334 - Data size: 58982400, shape: (512, 512)x225 file C:\\Users\\Jirik\\data\\medical\\orig\\3Dircadb1.20\\MASKS_DICOM\\liver\\image_114\n",
      "2020-05-26 14:19:46.275 | DEBUG    | io3d.dcmreaddata:get_3Ddata:334 - Data size: 58982400, shape: (512, 512)x225 file C:\\Users\\Jirik\\data\\medical\\orig\\3Dircadb1.20\\MASKS_DICOM\\liver\\image_115\n",
      "2020-05-26 14:19:46.282 | DEBUG    | io3d.dcmreaddata:get_3Ddata:334 - Data size: 58982400, shape: (512, 512)x225 file C:\\Users\\Jirik\\data\\medical\\orig\\3Dircadb1.20\\MASKS_DICOM\\liver\\image_116\n",
      "2020-05-26 14:19:46.292 | DEBUG    | io3d.dcmreaddata:get_3Ddata:334 - Data size: 58982400, shape: (512, 512)x225 file C:\\Users\\Jirik\\data\\medical\\orig\\3Dircadb1.20\\MASKS_DICOM\\liver\\image_117\n",
      "2020-05-26 14:19:46.299 | DEBUG    | io3d.dcmreaddata:get_3Ddata:334 - Data size: 58982400, shape: (512, 512)x225 file C:\\Users\\Jirik\\data\\medical\\orig\\3Dircadb1.20\\MASKS_DICOM\\liver\\image_118\n",
      "2020-05-26 14:19:46.309 | DEBUG    | io3d.dcmreaddata:get_3Ddata:334 - Data size: 58982400, shape: (512, 512)x225 file C:\\Users\\Jirik\\data\\medical\\orig\\3Dircadb1.20\\MASKS_DICOM\\liver\\image_119\n",
      "2020-05-26 14:19:46.318 | DEBUG    | io3d.dcmreaddata:get_3Ddata:334 - Data size: 58982400, shape: (512, 512)x225 file C:\\Users\\Jirik\\data\\medical\\orig\\3Dircadb1.20\\MASKS_DICOM\\liver\\image_120\n",
      "2020-05-26 14:19:46.325 | DEBUG    | io3d.dcmreaddata:get_3Ddata:334 - Data size: 58982400, shape: (512, 512)x225 file C:\\Users\\Jirik\\data\\medical\\orig\\3Dircadb1.20\\MASKS_DICOM\\liver\\image_121\n",
      "2020-05-26 14:19:46.331 | DEBUG    | io3d.dcmreaddata:get_3Ddata:334 - Data size: 58982400, shape: (512, 512)x225 file C:\\Users\\Jirik\\data\\medical\\orig\\3Dircadb1.20\\MASKS_DICOM\\liver\\image_122\n"
     ]
    },
    {
     "name": "stderr",
     "output_type": "stream",
     "text": [
      "2020-05-26 14:19:46.338 | DEBUG    | io3d.dcmreaddata:get_3Ddata:334 - Data size: 58982400, shape: (512, 512)x225 file C:\\Users\\Jirik\\data\\medical\\orig\\3Dircadb1.20\\MASKS_DICOM\\liver\\image_123\n",
      "2020-05-26 14:19:46.343 | DEBUG    | io3d.dcmreaddata:get_3Ddata:334 - Data size: 58982400, shape: (512, 512)x225 file C:\\Users\\Jirik\\data\\medical\\orig\\3Dircadb1.20\\MASKS_DICOM\\liver\\image_124\n",
      "2020-05-26 14:19:46.351 | DEBUG    | io3d.dcmreaddata:get_3Ddata:334 - Data size: 58982400, shape: (512, 512)x225 file C:\\Users\\Jirik\\data\\medical\\orig\\3Dircadb1.20\\MASKS_DICOM\\liver\\image_125\n",
      "2020-05-26 14:19:46.358 | DEBUG    | io3d.dcmreaddata:get_3Ddata:334 - Data size: 58982400, shape: (512, 512)x225 file C:\\Users\\Jirik\\data\\medical\\orig\\3Dircadb1.20\\MASKS_DICOM\\liver\\image_126\n",
      "2020-05-26 14:19:46.364 | DEBUG    | io3d.dcmreaddata:get_3Ddata:334 - Data size: 58982400, shape: (512, 512)x225 file C:\\Users\\Jirik\\data\\medical\\orig\\3Dircadb1.20\\MASKS_DICOM\\liver\\image_127\n",
      "2020-05-26 14:19:46.373 | DEBUG    | io3d.dcmreaddata:get_3Ddata:334 - Data size: 58982400, shape: (512, 512)x225 file C:\\Users\\Jirik\\data\\medical\\orig\\3Dircadb1.20\\MASKS_DICOM\\liver\\image_128\n",
      "2020-05-26 14:19:46.380 | DEBUG    | io3d.dcmreaddata:get_3Ddata:334 - Data size: 58982400, shape: (512, 512)x225 file C:\\Users\\Jirik\\data\\medical\\orig\\3Dircadb1.20\\MASKS_DICOM\\liver\\image_129\n",
      "2020-05-26 14:19:46.390 | DEBUG    | io3d.dcmreaddata:get_3Ddata:334 - Data size: 58982400, shape: (512, 512)x225 file C:\\Users\\Jirik\\data\\medical\\orig\\3Dircadb1.20\\MASKS_DICOM\\liver\\image_130\n",
      "2020-05-26 14:19:46.396 | DEBUG    | io3d.dcmreaddata:get_3Ddata:334 - Data size: 58982400, shape: (512, 512)x225 file C:\\Users\\Jirik\\data\\medical\\orig\\3Dircadb1.20\\MASKS_DICOM\\liver\\image_131\n",
      "2020-05-26 14:19:46.404 | DEBUG    | io3d.dcmreaddata:get_3Ddata:334 - Data size: 58982400, shape: (512, 512)x225 file C:\\Users\\Jirik\\data\\medical\\orig\\3Dircadb1.20\\MASKS_DICOM\\liver\\image_132\n",
      "2020-05-26 14:19:46.414 | DEBUG    | io3d.dcmreaddata:get_3Ddata:334 - Data size: 58982400, shape: (512, 512)x225 file C:\\Users\\Jirik\\data\\medical\\orig\\3Dircadb1.20\\MASKS_DICOM\\liver\\image_133\n",
      "2020-05-26 14:19:46.425 | DEBUG    | io3d.dcmreaddata:get_3Ddata:334 - Data size: 58982400, shape: (512, 512)x225 file C:\\Users\\Jirik\\data\\medical\\orig\\3Dircadb1.20\\MASKS_DICOM\\liver\\image_134\n",
      "2020-05-26 14:19:46.433 | DEBUG    | io3d.dcmreaddata:get_3Ddata:334 - Data size: 58982400, shape: (512, 512)x225 file C:\\Users\\Jirik\\data\\medical\\orig\\3Dircadb1.20\\MASKS_DICOM\\liver\\image_135\n",
      "2020-05-26 14:19:46.439 | DEBUG    | io3d.dcmreaddata:get_3Ddata:334 - Data size: 58982400, shape: (512, 512)x225 file C:\\Users\\Jirik\\data\\medical\\orig\\3Dircadb1.20\\MASKS_DICOM\\liver\\image_136\n",
      "2020-05-26 14:19:46.446 | DEBUG    | io3d.dcmreaddata:get_3Ddata:334 - Data size: 58982400, shape: (512, 512)x225 file C:\\Users\\Jirik\\data\\medical\\orig\\3Dircadb1.20\\MASKS_DICOM\\liver\\image_137\n",
      "2020-05-26 14:19:46.457 | DEBUG    | io3d.dcmreaddata:get_3Ddata:334 - Data size: 58982400, shape: (512, 512)x225 file C:\\Users\\Jirik\\data\\medical\\orig\\3Dircadb1.20\\MASKS_DICOM\\liver\\image_138\n",
      "2020-05-26 14:19:46.468 | DEBUG    | io3d.dcmreaddata:get_3Ddata:334 - Data size: 58982400, shape: (512, 512)x225 file C:\\Users\\Jirik\\data\\medical\\orig\\3Dircadb1.20\\MASKS_DICOM\\liver\\image_139\n",
      "2020-05-26 14:19:46.479 | DEBUG    | io3d.dcmreaddata:get_3Ddata:334 - Data size: 58982400, shape: (512, 512)x225 file C:\\Users\\Jirik\\data\\medical\\orig\\3Dircadb1.20\\MASKS_DICOM\\liver\\image_140\n",
      "2020-05-26 14:19:46.491 | DEBUG    | io3d.dcmreaddata:get_3Ddata:334 - Data size: 58982400, shape: (512, 512)x225 file C:\\Users\\Jirik\\data\\medical\\orig\\3Dircadb1.20\\MASKS_DICOM\\liver\\image_141\n",
      "2020-05-26 14:19:46.496 | DEBUG    | io3d.dcmreaddata:get_3Ddata:334 - Data size: 58982400, shape: (512, 512)x225 file C:\\Users\\Jirik\\data\\medical\\orig\\3Dircadb1.20\\MASKS_DICOM\\liver\\image_142\n",
      "2020-05-26 14:19:46.504 | DEBUG    | io3d.dcmreaddata:get_3Ddata:334 - Data size: 58982400, shape: (512, 512)x225 file C:\\Users\\Jirik\\data\\medical\\orig\\3Dircadb1.20\\MASKS_DICOM\\liver\\image_143\n",
      "2020-05-26 14:19:46.511 | DEBUG    | io3d.dcmreaddata:get_3Ddata:334 - Data size: 58982400, shape: (512, 512)x225 file C:\\Users\\Jirik\\data\\medical\\orig\\3Dircadb1.20\\MASKS_DICOM\\liver\\image_144\n",
      "2020-05-26 14:19:46.519 | DEBUG    | io3d.dcmreaddata:get_3Ddata:334 - Data size: 58982400, shape: (512, 512)x225 file C:\\Users\\Jirik\\data\\medical\\orig\\3Dircadb1.20\\MASKS_DICOM\\liver\\image_145\n",
      "2020-05-26 14:19:46.526 | DEBUG    | io3d.dcmreaddata:get_3Ddata:334 - Data size: 58982400, shape: (512, 512)x225 file C:\\Users\\Jirik\\data\\medical\\orig\\3Dircadb1.20\\MASKS_DICOM\\liver\\image_146\n",
      "2020-05-26 14:19:46.536 | DEBUG    | io3d.dcmreaddata:get_3Ddata:334 - Data size: 58982400, shape: (512, 512)x225 file C:\\Users\\Jirik\\data\\medical\\orig\\3Dircadb1.20\\MASKS_DICOM\\liver\\image_147\n",
      "2020-05-26 14:19:46.542 | DEBUG    | io3d.dcmreaddata:get_3Ddata:334 - Data size: 58982400, shape: (512, 512)x225 file C:\\Users\\Jirik\\data\\medical\\orig\\3Dircadb1.20\\MASKS_DICOM\\liver\\image_148\n",
      "2020-05-26 14:19:46.547 | DEBUG    | io3d.dcmreaddata:get_3Ddata:334 - Data size: 58982400, shape: (512, 512)x225 file C:\\Users\\Jirik\\data\\medical\\orig\\3Dircadb1.20\\MASKS_DICOM\\liver\\image_149\n",
      "2020-05-26 14:19:46.557 | DEBUG    | io3d.dcmreaddata:get_3Ddata:334 - Data size: 58982400, shape: (512, 512)x225 file C:\\Users\\Jirik\\data\\medical\\orig\\3Dircadb1.20\\MASKS_DICOM\\liver\\image_150\n",
      "2020-05-26 14:19:46.563 | DEBUG    | io3d.dcmreaddata:get_3Ddata:334 - Data size: 58982400, shape: (512, 512)x225 file C:\\Users\\Jirik\\data\\medical\\orig\\3Dircadb1.20\\MASKS_DICOM\\liver\\image_151\n",
      "2020-05-26 14:19:46.573 | DEBUG    | io3d.dcmreaddata:get_3Ddata:334 - Data size: 58982400, shape: (512, 512)x225 file C:\\Users\\Jirik\\data\\medical\\orig\\3Dircadb1.20\\MASKS_DICOM\\liver\\image_152\n",
      "2020-05-26 14:19:46.578 | DEBUG    | io3d.dcmreaddata:get_3Ddata:334 - Data size: 58982400, shape: (512, 512)x225 file C:\\Users\\Jirik\\data\\medical\\orig\\3Dircadb1.20\\MASKS_DICOM\\liver\\image_153\n",
      "2020-05-26 14:19:46.588 | DEBUG    | io3d.dcmreaddata:get_3Ddata:334 - Data size: 58982400, shape: (512, 512)x225 file C:\\Users\\Jirik\\data\\medical\\orig\\3Dircadb1.20\\MASKS_DICOM\\liver\\image_154\n",
      "2020-05-26 14:19:46.594 | DEBUG    | io3d.dcmreaddata:get_3Ddata:334 - Data size: 58982400, shape: (512, 512)x225 file C:\\Users\\Jirik\\data\\medical\\orig\\3Dircadb1.20\\MASKS_DICOM\\liver\\image_155\n",
      "2020-05-26 14:19:46.603 | DEBUG    | io3d.dcmreaddata:get_3Ddata:334 - Data size: 58982400, shape: (512, 512)x225 file C:\\Users\\Jirik\\data\\medical\\orig\\3Dircadb1.20\\MASKS_DICOM\\liver\\image_156\n",
      "2020-05-26 14:19:46.610 | DEBUG    | io3d.dcmreaddata:get_3Ddata:334 - Data size: 58982400, shape: (512, 512)x225 file C:\\Users\\Jirik\\data\\medical\\orig\\3Dircadb1.20\\MASKS_DICOM\\liver\\image_157\n",
      "2020-05-26 14:19:46.619 | DEBUG    | io3d.dcmreaddata:get_3Ddata:334 - Data size: 58982400, shape: (512, 512)x225 file C:\\Users\\Jirik\\data\\medical\\orig\\3Dircadb1.20\\MASKS_DICOM\\liver\\image_158\n",
      "2020-05-26 14:19:46.626 | DEBUG    | io3d.dcmreaddata:get_3Ddata:334 - Data size: 58982400, shape: (512, 512)x225 file C:\\Users\\Jirik\\data\\medical\\orig\\3Dircadb1.20\\MASKS_DICOM\\liver\\image_159\n",
      "2020-05-26 14:19:46.637 | DEBUG    | io3d.dcmreaddata:get_3Ddata:334 - Data size: 58982400, shape: (512, 512)x225 file C:\\Users\\Jirik\\data\\medical\\orig\\3Dircadb1.20\\MASKS_DICOM\\liver\\image_160\n",
      "2020-05-26 14:19:46.642 | DEBUG    | io3d.dcmreaddata:get_3Ddata:334 - Data size: 58982400, shape: (512, 512)x225 file C:\\Users\\Jirik\\data\\medical\\orig\\3Dircadb1.20\\MASKS_DICOM\\liver\\image_161\n",
      "2020-05-26 14:19:46.648 | DEBUG    | io3d.dcmreaddata:get_3Ddata:334 - Data size: 58982400, shape: (512, 512)x225 file C:\\Users\\Jirik\\data\\medical\\orig\\3Dircadb1.20\\MASKS_DICOM\\liver\\image_162\n",
      "2020-05-26 14:19:46.657 | DEBUG    | io3d.dcmreaddata:get_3Ddata:334 - Data size: 58982400, shape: (512, 512)x225 file C:\\Users\\Jirik\\data\\medical\\orig\\3Dircadb1.20\\MASKS_DICOM\\liver\\image_163\n",
      "2020-05-26 14:19:46.662 | DEBUG    | io3d.dcmreaddata:get_3Ddata:334 - Data size: 58982400, shape: (512, 512)x225 file C:\\Users\\Jirik\\data\\medical\\orig\\3Dircadb1.20\\MASKS_DICOM\\liver\\image_164\n",
      "2020-05-26 14:19:46.671 | DEBUG    | io3d.dcmreaddata:get_3Ddata:334 - Data size: 58982400, shape: (512, 512)x225 file C:\\Users\\Jirik\\data\\medical\\orig\\3Dircadb1.20\\MASKS_DICOM\\liver\\image_165\n"
     ]
    },
    {
     "name": "stderr",
     "output_type": "stream",
     "text": [
      "2020-05-26 14:19:46.677 | DEBUG    | io3d.dcmreaddata:get_3Ddata:334 - Data size: 58982400, shape: (512, 512)x225 file C:\\Users\\Jirik\\data\\medical\\orig\\3Dircadb1.20\\MASKS_DICOM\\liver\\image_166\n",
      "2020-05-26 14:19:46.692 | DEBUG    | io3d.dcmreaddata:get_3Ddata:334 - Data size: 58982400, shape: (512, 512)x225 file C:\\Users\\Jirik\\data\\medical\\orig\\3Dircadb1.20\\MASKS_DICOM\\liver\\image_167\n",
      "2020-05-26 14:19:46.702 | DEBUG    | io3d.dcmreaddata:get_3Ddata:334 - Data size: 58982400, shape: (512, 512)x225 file C:\\Users\\Jirik\\data\\medical\\orig\\3Dircadb1.20\\MASKS_DICOM\\liver\\image_168\n",
      "2020-05-26 14:19:46.707 | DEBUG    | io3d.dcmreaddata:get_3Ddata:334 - Data size: 58982400, shape: (512, 512)x225 file C:\\Users\\Jirik\\data\\medical\\orig\\3Dircadb1.20\\MASKS_DICOM\\liver\\image_169\n",
      "2020-05-26 14:19:46.713 | DEBUG    | io3d.dcmreaddata:get_3Ddata:334 - Data size: 58982400, shape: (512, 512)x225 file C:\\Users\\Jirik\\data\\medical\\orig\\3Dircadb1.20\\MASKS_DICOM\\liver\\image_170\n",
      "2020-05-26 14:19:46.721 | DEBUG    | io3d.dcmreaddata:get_3Ddata:334 - Data size: 58982400, shape: (512, 512)x225 file C:\\Users\\Jirik\\data\\medical\\orig\\3Dircadb1.20\\MASKS_DICOM\\liver\\image_171\n",
      "2020-05-26 14:19:46.727 | DEBUG    | io3d.dcmreaddata:get_3Ddata:334 - Data size: 58982400, shape: (512, 512)x225 file C:\\Users\\Jirik\\data\\medical\\orig\\3Dircadb1.20\\MASKS_DICOM\\liver\\image_172\n",
      "2020-05-26 14:19:46.736 | DEBUG    | io3d.dcmreaddata:get_3Ddata:334 - Data size: 58982400, shape: (512, 512)x225 file C:\\Users\\Jirik\\data\\medical\\orig\\3Dircadb1.20\\MASKS_DICOM\\liver\\image_173\n",
      "2020-05-26 14:19:46.743 | DEBUG    | io3d.dcmreaddata:get_3Ddata:334 - Data size: 58982400, shape: (512, 512)x225 file C:\\Users\\Jirik\\data\\medical\\orig\\3Dircadb1.20\\MASKS_DICOM\\liver\\image_174\n",
      "2020-05-26 14:19:46.755 | DEBUG    | io3d.dcmreaddata:get_3Ddata:334 - Data size: 58982400, shape: (512, 512)x225 file C:\\Users\\Jirik\\data\\medical\\orig\\3Dircadb1.20\\MASKS_DICOM\\liver\\image_175\n",
      "2020-05-26 14:19:46.762 | DEBUG    | io3d.dcmreaddata:get_3Ddata:334 - Data size: 58982400, shape: (512, 512)x225 file C:\\Users\\Jirik\\data\\medical\\orig\\3Dircadb1.20\\MASKS_DICOM\\liver\\image_176\n",
      "2020-05-26 14:19:46.770 | DEBUG    | io3d.dcmreaddata:get_3Ddata:334 - Data size: 58982400, shape: (512, 512)x225 file C:\\Users\\Jirik\\data\\medical\\orig\\3Dircadb1.20\\MASKS_DICOM\\liver\\image_177\n",
      "2020-05-26 14:19:46.779 | DEBUG    | io3d.dcmreaddata:get_3Ddata:334 - Data size: 58982400, shape: (512, 512)x225 file C:\\Users\\Jirik\\data\\medical\\orig\\3Dircadb1.20\\MASKS_DICOM\\liver\\image_178\n",
      "2020-05-26 14:19:46.790 | DEBUG    | io3d.dcmreaddata:get_3Ddata:334 - Data size: 58982400, shape: (512, 512)x225 file C:\\Users\\Jirik\\data\\medical\\orig\\3Dircadb1.20\\MASKS_DICOM\\liver\\image_179\n",
      "2020-05-26 14:19:46.798 | DEBUG    | io3d.dcmreaddata:get_3Ddata:334 - Data size: 58982400, shape: (512, 512)x225 file C:\\Users\\Jirik\\data\\medical\\orig\\3Dircadb1.20\\MASKS_DICOM\\liver\\image_180\n",
      "2020-05-26 14:19:46.806 | DEBUG    | io3d.dcmreaddata:get_3Ddata:334 - Data size: 58982400, shape: (512, 512)x225 file C:\\Users\\Jirik\\data\\medical\\orig\\3Dircadb1.20\\MASKS_DICOM\\liver\\image_181\n",
      "2020-05-26 14:19:46.821 | DEBUG    | io3d.dcmreaddata:get_3Ddata:334 - Data size: 58982400, shape: (512, 512)x225 file C:\\Users\\Jirik\\data\\medical\\orig\\3Dircadb1.20\\MASKS_DICOM\\liver\\image_182\n",
      "2020-05-26 14:19:46.827 | DEBUG    | io3d.dcmreaddata:get_3Ddata:334 - Data size: 58982400, shape: (512, 512)x225 file C:\\Users\\Jirik\\data\\medical\\orig\\3Dircadb1.20\\MASKS_DICOM\\liver\\image_183\n",
      "2020-05-26 14:19:46.835 | DEBUG    | io3d.dcmreaddata:get_3Ddata:334 - Data size: 58982400, shape: (512, 512)x225 file C:\\Users\\Jirik\\data\\medical\\orig\\3Dircadb1.20\\MASKS_DICOM\\liver\\image_184\n",
      "2020-05-26 14:19:46.843 | DEBUG    | io3d.dcmreaddata:get_3Ddata:334 - Data size: 58982400, shape: (512, 512)x225 file C:\\Users\\Jirik\\data\\medical\\orig\\3Dircadb1.20\\MASKS_DICOM\\liver\\image_185\n",
      "2020-05-26 14:19:46.848 | DEBUG    | io3d.dcmreaddata:get_3Ddata:334 - Data size: 58982400, shape: (512, 512)x225 file C:\\Users\\Jirik\\data\\medical\\orig\\3Dircadb1.20\\MASKS_DICOM\\liver\\image_186\n",
      "2020-05-26 14:19:46.857 | DEBUG    | io3d.dcmreaddata:get_3Ddata:334 - Data size: 58982400, shape: (512, 512)x225 file C:\\Users\\Jirik\\data\\medical\\orig\\3Dircadb1.20\\MASKS_DICOM\\liver\\image_187\n",
      "2020-05-26 14:19:46.865 | DEBUG    | io3d.dcmreaddata:get_3Ddata:334 - Data size: 58982400, shape: (512, 512)x225 file C:\\Users\\Jirik\\data\\medical\\orig\\3Dircadb1.20\\MASKS_DICOM\\liver\\image_188\n",
      "2020-05-26 14:19:46.876 | DEBUG    | io3d.dcmreaddata:get_3Ddata:334 - Data size: 58982400, shape: (512, 512)x225 file C:\\Users\\Jirik\\data\\medical\\orig\\3Dircadb1.20\\MASKS_DICOM\\liver\\image_189\n",
      "2020-05-26 14:19:46.885 | DEBUG    | io3d.dcmreaddata:get_3Ddata:334 - Data size: 58982400, shape: (512, 512)x225 file C:\\Users\\Jirik\\data\\medical\\orig\\3Dircadb1.20\\MASKS_DICOM\\liver\\image_190\n",
      "2020-05-26 14:19:46.892 | DEBUG    | io3d.dcmreaddata:get_3Ddata:334 - Data size: 58982400, shape: (512, 512)x225 file C:\\Users\\Jirik\\data\\medical\\orig\\3Dircadb1.20\\MASKS_DICOM\\liver\\image_191\n",
      "2020-05-26 14:19:46.899 | DEBUG    | io3d.dcmreaddata:get_3Ddata:334 - Data size: 58982400, shape: (512, 512)x225 file C:\\Users\\Jirik\\data\\medical\\orig\\3Dircadb1.20\\MASKS_DICOM\\liver\\image_192\n",
      "2020-05-26 14:19:46.909 | DEBUG    | io3d.dcmreaddata:get_3Ddata:334 - Data size: 58982400, shape: (512, 512)x225 file C:\\Users\\Jirik\\data\\medical\\orig\\3Dircadb1.20\\MASKS_DICOM\\liver\\image_193\n",
      "2020-05-26 14:19:46.918 | DEBUG    | io3d.dcmreaddata:get_3Ddata:334 - Data size: 58982400, shape: (512, 512)x225 file C:\\Users\\Jirik\\data\\medical\\orig\\3Dircadb1.20\\MASKS_DICOM\\liver\\image_194\n",
      "2020-05-26 14:19:46.927 | DEBUG    | io3d.dcmreaddata:get_3Ddata:334 - Data size: 58982400, shape: (512, 512)x225 file C:\\Users\\Jirik\\data\\medical\\orig\\3Dircadb1.20\\MASKS_DICOM\\liver\\image_195\n",
      "2020-05-26 14:19:46.938 | DEBUG    | io3d.dcmreaddata:get_3Ddata:334 - Data size: 58982400, shape: (512, 512)x225 file C:\\Users\\Jirik\\data\\medical\\orig\\3Dircadb1.20\\MASKS_DICOM\\liver\\image_196\n",
      "2020-05-26 14:19:46.943 | DEBUG    | io3d.dcmreaddata:get_3Ddata:334 - Data size: 58982400, shape: (512, 512)x225 file C:\\Users\\Jirik\\data\\medical\\orig\\3Dircadb1.20\\MASKS_DICOM\\liver\\image_197\n",
      "2020-05-26 14:19:46.949 | DEBUG    | io3d.dcmreaddata:get_3Ddata:334 - Data size: 58982400, shape: (512, 512)x225 file C:\\Users\\Jirik\\data\\medical\\orig\\3Dircadb1.20\\MASKS_DICOM\\liver\\image_198\n",
      "2020-05-26 14:19:46.960 | DEBUG    | io3d.dcmreaddata:get_3Ddata:334 - Data size: 58982400, shape: (512, 512)x225 file C:\\Users\\Jirik\\data\\medical\\orig\\3Dircadb1.20\\MASKS_DICOM\\liver\\image_199\n",
      "2020-05-26 14:19:46.970 | DEBUG    | io3d.dcmreaddata:get_3Ddata:334 - Data size: 58982400, shape: (512, 512)x225 file C:\\Users\\Jirik\\data\\medical\\orig\\3Dircadb1.20\\MASKS_DICOM\\liver\\image_200\n",
      "2020-05-26 14:19:46.977 | DEBUG    | io3d.dcmreaddata:get_3Ddata:334 - Data size: 58982400, shape: (512, 512)x225 file C:\\Users\\Jirik\\data\\medical\\orig\\3Dircadb1.20\\MASKS_DICOM\\liver\\image_201\n",
      "2020-05-26 14:19:46.987 | DEBUG    | io3d.dcmreaddata:get_3Ddata:334 - Data size: 58982400, shape: (512, 512)x225 file C:\\Users\\Jirik\\data\\medical\\orig\\3Dircadb1.20\\MASKS_DICOM\\liver\\image_202\n",
      "2020-05-26 14:19:46.992 | DEBUG    | io3d.dcmreaddata:get_3Ddata:334 - Data size: 58982400, shape: (512, 512)x225 file C:\\Users\\Jirik\\data\\medical\\orig\\3Dircadb1.20\\MASKS_DICOM\\liver\\image_203\n",
      "2020-05-26 14:19:46.999 | DEBUG    | io3d.dcmreaddata:get_3Ddata:334 - Data size: 58982400, shape: (512, 512)x225 file C:\\Users\\Jirik\\data\\medical\\orig\\3Dircadb1.20\\MASKS_DICOM\\liver\\image_204\n",
      "2020-05-26 14:19:47.009 | DEBUG    | io3d.dcmreaddata:get_3Ddata:334 - Data size: 58982400, shape: (512, 512)x225 file C:\\Users\\Jirik\\data\\medical\\orig\\3Dircadb1.20\\MASKS_DICOM\\liver\\image_205\n",
      "2020-05-26 14:19:47.017 | DEBUG    | io3d.dcmreaddata:get_3Ddata:334 - Data size: 58982400, shape: (512, 512)x225 file C:\\Users\\Jirik\\data\\medical\\orig\\3Dircadb1.20\\MASKS_DICOM\\liver\\image_206\n",
      "2020-05-26 14:19:47.028 | DEBUG    | io3d.dcmreaddata:get_3Ddata:334 - Data size: 58982400, shape: (512, 512)x225 file C:\\Users\\Jirik\\data\\medical\\orig\\3Dircadb1.20\\MASKS_DICOM\\liver\\image_207\n",
      "2020-05-26 14:19:47.043 | DEBUG    | io3d.dcmreaddata:get_3Ddata:334 - Data size: 58982400, shape: (512, 512)x225 file C:\\Users\\Jirik\\data\\medical\\orig\\3Dircadb1.20\\MASKS_DICOM\\liver\\image_208\n"
     ]
    },
    {
     "name": "stderr",
     "output_type": "stream",
     "text": [
      "2020-05-26 14:19:47.052 | DEBUG    | io3d.dcmreaddata:get_3Ddata:334 - Data size: 58982400, shape: (512, 512)x225 file C:\\Users\\Jirik\\data\\medical\\orig\\3Dircadb1.20\\MASKS_DICOM\\liver\\image_209\n",
      "2020-05-26 14:19:47.060 | DEBUG    | io3d.dcmreaddata:get_3Ddata:334 - Data size: 58982400, shape: (512, 512)x225 file C:\\Users\\Jirik\\data\\medical\\orig\\3Dircadb1.20\\MASKS_DICOM\\liver\\image_210\n",
      "2020-05-26 14:19:47.066 | DEBUG    | io3d.dcmreaddata:get_3Ddata:334 - Data size: 58982400, shape: (512, 512)x225 file C:\\Users\\Jirik\\data\\medical\\orig\\3Dircadb1.20\\MASKS_DICOM\\liver\\image_211\n",
      "2020-05-26 14:19:47.075 | DEBUG    | io3d.dcmreaddata:get_3Ddata:334 - Data size: 58982400, shape: (512, 512)x225 file C:\\Users\\Jirik\\data\\medical\\orig\\3Dircadb1.20\\MASKS_DICOM\\liver\\image_212\n",
      "2020-05-26 14:19:47.083 | DEBUG    | io3d.dcmreaddata:get_3Ddata:334 - Data size: 58982400, shape: (512, 512)x225 file C:\\Users\\Jirik\\data\\medical\\orig\\3Dircadb1.20\\MASKS_DICOM\\liver\\image_213\n",
      "2020-05-26 14:19:47.092 | DEBUG    | io3d.dcmreaddata:get_3Ddata:334 - Data size: 58982400, shape: (512, 512)x225 file C:\\Users\\Jirik\\data\\medical\\orig\\3Dircadb1.20\\MASKS_DICOM\\liver\\image_214\n",
      "2020-05-26 14:19:47.100 | DEBUG    | io3d.dcmreaddata:get_3Ddata:334 - Data size: 58982400, shape: (512, 512)x225 file C:\\Users\\Jirik\\data\\medical\\orig\\3Dircadb1.20\\MASKS_DICOM\\liver\\image_215\n",
      "2020-05-26 14:19:47.108 | DEBUG    | io3d.dcmreaddata:get_3Ddata:334 - Data size: 58982400, shape: (512, 512)x225 file C:\\Users\\Jirik\\data\\medical\\orig\\3Dircadb1.20\\MASKS_DICOM\\liver\\image_216\n",
      "2020-05-26 14:19:47.115 | DEBUG    | io3d.dcmreaddata:get_3Ddata:334 - Data size: 58982400, shape: (512, 512)x225 file C:\\Users\\Jirik\\data\\medical\\orig\\3Dircadb1.20\\MASKS_DICOM\\liver\\image_217\n",
      "2020-05-26 14:19:47.125 | DEBUG    | io3d.dcmreaddata:get_3Ddata:334 - Data size: 58982400, shape: (512, 512)x225 file C:\\Users\\Jirik\\data\\medical\\orig\\3Dircadb1.20\\MASKS_DICOM\\liver\\image_218\n",
      "2020-05-26 14:19:47.132 | DEBUG    | io3d.dcmreaddata:get_3Ddata:334 - Data size: 58982400, shape: (512, 512)x225 file C:\\Users\\Jirik\\data\\medical\\orig\\3Dircadb1.20\\MASKS_DICOM\\liver\\image_219\n",
      "2020-05-26 14:19:47.140 | DEBUG    | io3d.dcmreaddata:get_3Ddata:334 - Data size: 58982400, shape: (512, 512)x225 file C:\\Users\\Jirik\\data\\medical\\orig\\3Dircadb1.20\\MASKS_DICOM\\liver\\image_220\n",
      "2020-05-26 14:19:47.147 | DEBUG    | io3d.dcmreaddata:get_3Ddata:334 - Data size: 58982400, shape: (512, 512)x225 file C:\\Users\\Jirik\\data\\medical\\orig\\3Dircadb1.20\\MASKS_DICOM\\liver\\image_221\n",
      "2020-05-26 14:19:47.156 | DEBUG    | io3d.dcmreaddata:get_3Ddata:334 - Data size: 58982400, shape: (512, 512)x225 file C:\\Users\\Jirik\\data\\medical\\orig\\3Dircadb1.20\\MASKS_DICOM\\liver\\image_222\n",
      "2020-05-26 14:19:47.165 | DEBUG    | io3d.dcmreaddata:get_3Ddata:334 - Data size: 58982400, shape: (512, 512)x225 file C:\\Users\\Jirik\\data\\medical\\orig\\3Dircadb1.20\\MASKS_DICOM\\liver\\image_223\n",
      "2020-05-26 14:19:47.176 | DEBUG    | io3d.dcmreaddata:get_3Ddata:334 - Data size: 58982400, shape: (512, 512)x225 file C:\\Users\\Jirik\\data\\medical\\orig\\3Dircadb1.20\\MASKS_DICOM\\liver\\image_224\n",
      "2020-05-26 14:19:47.565 | DEBUG    | io3d.dcmreaddata:get_metaData:529 - Filename: C:\\Users\\Jirik\\data\\medical\\orig\\3Dircadb1.20\\MASKS_DICOM\\liver\\image_0\n",
      "2020-05-26 14:19:47.583 | DEBUG    | io3d.dcmreaddata:get_slice_location:917 - Estimating SliceLocation wiht image number and SliceThickness\n",
      "2020-05-26 14:19:47.587 | DEBUG    | io3d.dcmreaddata:get_slice_location:917 - Estimating SliceLocation wiht image number and SliceThickness\n",
      "2020-05-26 14:19:47.595 | DEBUG    | io3d.dcmreaddata:get_slice_location:917 - Estimating SliceLocation wiht image number and SliceThickness\n",
      "2020-05-26 14:19:47.599 | DEBUG    | io3d.dcmreaddata:get_slice_location:917 - Estimating SliceLocation wiht image number and SliceThickness\n",
      "2020-05-26 14:19:47.603 | INFO     | io3d.dcmreaddata:get_metaData:580 - Problem with tag SeriesDescription, SeriesNumber: \n",
      "2020-05-26 14:19:47.607 | INFO     | io3d.dcmreaddata:get_metaData:585 - Problem with tag ImageComments\n",
      "2020-05-26 14:19:47.894 | DEBUG    | io3d.datareader:Get3DData:166 - dataplus format\n",
      "2020-05-26 14:19:47.897 | DEBUG    | io3d.datareader:Get3DData:170 - datap keys () : dict_keys(['voxelsize_mm', 'Modality', 'SeriesNumber', 'AcquisitionDate', 'StudyDate', 'StudyID', 'PatientSex', 'PatientID', 'PatientName', 'dcmfilelist', 'series_number', 'datadir', 'data3d'])\n"
     ]
    },
    {
     "data": {
      "text/plain": [
       "<matplotlib.image.AxesImage at 0x1d3031db780>"
      ]
     },
     "execution_count": 271,
     "metadata": {},
     "output_type": "execute_result"
    },
    {
     "data": {
      "image/png": "[encoded data removed]",
      "text/plain": [
       "<Figure size 432x288 with 1 Axes>"
      ]
     },
     "metadata": {
      "needs_background": "light"
     },
     "output_type": "display_data"
    }
   ],
   "source": [
    "dp_left = io3d.read(pth_left, dataplus_format=True)\n",
    "dp_liver = io3d.read(pth_liver, dataplus_format=True)\n",
    "imshow(dp_left[\"data3d\"][30,:,:])"
   ]
  },
  {
   "cell_type": "code",
   "execution_count": 272,
   "metadata": {},
   "outputs": [
    {
     "data": {
      "text/plain": [
       "<matplotlib.image.AxesImage at 0x1d303235668>"
      ]
     },
     "execution_count": 272,
     "metadata": {},
     "output_type": "execute_result"
    },
    {
     "data": {
      "image/png": "[encoded data removed]",
      "text/plain": [
       "<Figure size 432x288 with 1 Axes>"
      ]
     },
     "metadata": {
      "needs_background": "light"
     },
     "output_type": "display_data"
    }
   ],
   "source": [
    "\n",
    "# mask_ll = dp_left[\"segmentation\"] == dp_left[\"slab\"][\"left_liver\"]\n",
    "mask_ll = dp_left[\"data3d\"] > 0\n",
    "imshow(mask_ll[30])\n",
    "# plt.colorbar()"
   ]
  },
  {
   "cell_type": "code",
   "execution_count": 273,
   "metadata": {},
   "outputs": [
    {
     "name": "stdout",
     "output_type": "stream",
     "text": [
      "[0 1]\n"
     ]
    },
    {
     "data": {
      "text/plain": [
       "<matplotlib.image.AxesImage at 0x1d3034d4a90>"
      ]
     },
     "execution_count": 273,
     "metadata": {},
     "output_type": "execute_result"
    },
    {
     "data": {
      "image/png": "[encoded data removed]",
      "text/plain": [
       "<Figure size 432x288 with 1 Axes>"
      ]
     },
     "metadata": {
      "needs_background": "light"
     },
     "output_type": "display_data"
    }
   ],
   "source": [
    "mask_li = dp_liver[\"data3d\"] > 0\n",
    "print(np.unique(dp_liver[\"data3d\"]))\n",
    "imshow(mask_li[20])\n",
    "# plt.colorbar()"
   ]
  },
  {
   "cell_type": "code",
   "execution_count": 274,
   "metadata": {},
   "outputs": [
    {
     "data": {
      "text/plain": [
       "<matplotlib.image.AxesImage at 0x1d3035346d8>"
      ]
     },
     "execution_count": 274,
     "metadata": {},
     "output_type": "execute_result"
    },
    {
     "data": {
      "image/png": "[encoded data removed]",
      "text/plain": [
       "<Figure size 432x288 with 1 Axes>"
      ]
     },
     "metadata": {
      "needs_background": "light"
     },
     "output_type": "display_data"
    }
   ],
   "source": [
    "mask_ll_li = mask_li & mask_ll\n",
    "imshow(mask_ll_li[20])"
   ]
  },
  {
   "cell_type": "code",
   "execution_count": 275,
   "metadata": {},
   "outputs": [
    {
     "data": {
      "text/plain": [
       "<matplotlib.image.AxesImage at 0x1d30358dfd0>"
      ]
     },
     "execution_count": 275,
     "metadata": {},
     "output_type": "execute_result"
    },
    {
     "data": {
      "image/png": "[encoded data removed]",
      "text/plain": [
       "<Figure size 432x288 with 1 Axes>"
      ]
     },
     "metadata": {
      "needs_background": "light"
     },
     "output_type": "display_data"
    }
   ],
   "source": [
    "dp_liver[\"data3d\"][dp_liver[\"data3d\"] == 1] = 255\n",
    "dp_liver[\"data3d\"][mask_ll_li] = 128\n",
    "imshow(dp_liver[\"data3d\"][30])"
   ]
  },
  {
   "cell_type": "markdown",
   "metadata": {},
   "source": [
    "## Are there both labels?"
   ]
  },
  {
   "cell_type": "code",
   "execution_count": 276,
   "metadata": {},
   "outputs": [
    {
     "name": "stdout",
     "output_type": "stream",
     "text": [
      "[  0 128 255]\n"
     ]
    }
   ],
   "source": [
    "print(np.unique(dp_liver[\"data3d\"]))"
   ]
  },
  {
   "cell_type": "code",
   "execution_count": 277,
   "metadata": {},
   "outputs": [
    {
     "name": "stdout",
     "output_type": "stream",
     "text": [
      "Help on function write in module io3d.datawriter:\n",
      "\n",
      "write(data3d, path, filetype='auto', metadata=None)\n",
      "    :param data3d: input ndarray\n",
      "    :param path: output path, if braces are in the name (\"dir/file{:04d}.dcm\"), image stack is produced .\n",
      "    Check function filename_format() for more details.\n",
      "    :param filetype: dcm, png, h5, ... \"image_stack\"\n",
      "    :param metadata: metadata f.e. {'voxelsize_mm': [3,2,2]}\n",
      "    :return:\n",
      "\n"
     ]
    }
   ],
   "source": [
    "help(io3d.write)"
   ]
  },
  {
   "cell_type": "code",
   "execution_count": 278,
   "metadata": {},
   "outputs": [],
   "source": [
    "# fn = \"ircad10.pklz\"\n",
    "io3d.write(dp_liver[\"data3d\"], pth_output, metadata={\"voxelsize_mm\":dp_liver[\"voxelsize_mm\"]})\n"
   ]
  },
  {
   "cell_type": "markdown",
   "metadata": {},
   "source": [
    "# Check by read"
   ]
  },
  {
   "cell_type": "code",
   "execution_count": 279,
   "metadata": {
    "scrolled": true
   },
   "outputs": [
    {
     "name": "stderr",
     "output_type": "stream",
     "text": [
      "2020-05-26 14:19:56.527 | DEBUG    | io3d.datareader:Get3DData:146 - file read recognized\n",
      "2020-05-26 14:19:56.531 | DEBUG    | io3d.datareader:__ReadFromFile:254 - pklz format detected\n",
      "2020-05-26 14:19:57.772 | DEBUG    | io3d.datareader:Get3DData:166 - dataplus format\n",
      "2020-05-26 14:19:57.775 | DEBUG    | io3d.datareader:Get3DData:170 - datap keys () : dict_keys(['series_number', 'datadir', 'voxelsize_mm', 'data3d'])\n"
     ]
    },
    {
     "data": {
      "text/plain": [
       "<matplotlib.image.AxesImage at 0x1d3035f3828>"
      ]
     },
     "execution_count": 279,
     "metadata": {},
     "output_type": "execute_result"
    },
    {
     "data": {
      "image/png": "[encoded data removed]",
      "text/plain": [
       "<Figure size 432x288 with 1 Axes>"
      ]
     },
     "metadata": {
      "needs_background": "light"
     },
     "output_type": "display_data"
    }
   ],
   "source": [
    "dap = io3d.read(pth_output, dataplus_format=True)\n",
    "\n",
    "imshow(dap[\"data3d\"][30])"
   ]
  },
  {
   "cell_type": "code",
   "execution_count": 280,
   "metadata": {},
   "outputs": [
    {
     "data": {
      "text/plain": [
       "4"
      ]
     },
     "execution_count": 280,
     "metadata": {},
     "output_type": "execute_result"
    }
   ],
   "source": [
    "max(0,4)"
   ]
  }
 ],
 "metadata": {
  "@webio": {
   "lastCommId": null,
   "lastKernelId": null
  },
  "kernelspec": {
   "display_name": "Python 3",
   "language": "python",
   "name": "python3"
  },
  "language_info": {
   "codemirror_mode": {
    "name": "ipython",
    "version": 3
   },
   "file_extension": ".py",
   "mimetype": "text/x-python",
   "name": "python",
   "nbconvert_exporter": "python",
   "pygments_lexer": "ipython3",
   "version": "3.6.7"
  },
  "toc": {
   "base_numbering": 1,
   "nav_menu": {},
   "number_sections": true,
   "sideBar": true,
   "skip_h1_title": false,
   "title_cell": "Table of Contents",
   "title_sidebar": "Contents",
   "toc_cell": false,
   "toc_position": {},
   "toc_section_display": true,
   "toc_window_display": true
  }
 },
 "nbformat": 4,
 "nbformat_minor": 2
}
